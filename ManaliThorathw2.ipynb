{
 "cells": [
  {
   "cell_type": "code",
   "execution_count": null,
   "metadata": {},
   "outputs": [],
   "source": [
    "'''\n",
    "Q1: Write a python program to sum of the first n positive integers after\n",
    "accepting the value of n from the user.\n",
    "\n",
    "'''\n",
    "\n",
    "posNo = int(input('Enter a positive integer: '))\n",
    "count = 0 \n",
    "if posNo < 0 :\n",
    "    print('You have entered an invalid number. Exiting the program')\n",
    "else : \n",
    "    for i in range(1, posNo+1):\n",
    "        count = count + i\n",
    "    print('The sum of',posNo,'positive numbers is :',count)"
   ]
  },
  {
   "cell_type": "code",
   "execution_count": null,
   "metadata": {},
   "outputs": [],
   "source": [
    "'''\n",
    "Q2. Given two positive integers x and y, write a program to print the\n",
    "Greatest Common Divisor (GCD) of x and y.\n",
    "\n",
    "'''\n",
    "\n",
    "fNo = int(input('Enter the First Number '))\n",
    "sNo = int(input('Enter the Second Number '))\n",
    "i=1\n",
    "gcd =0\n",
    "while(i <= fNo and i <= sNo):\n",
    "    if fNo%i == 0 and sNo%i == 0:\n",
    "        gcd = i\n",
    "    i=i+1\n",
    "print('GCD of',fNo,'and',sNo,': ',gcd)"
   ]
  },
  {
   "cell_type": "code",
   "execution_count": 12,
   "metadata": {},
   "outputs": [
    {
     "name": "stdout",
     "output_type": "stream",
     "text": [
      "Enter a positive integer :6\n",
      "6 is a composite number\n"
     ]
    }
   ],
   "source": [
    "'''\n",
    "Q3: An integer, greater than 1, that is only divisible by 1 and itself is\n",
    "called a prime number. All other numbers greater than 1 are called\n",
    "composite numbers. The integers 0 and 1 are neither prime nor\n",
    "composite. Write a python program that requests a positive integer from\n",
    "the user, determines if it is a prime, composite or neither prime or\n",
    "composite and prints the message.\n",
    "\n",
    "'''\n",
    "\n",
    "No = int(input('Enter a positive integer :'))\n",
    "\n",
    "if No>1 :\n",
    "    for i in range (2,No//2):\n",
    "        if(No % i == 0):\n",
    "            print(No,'is a composite number')\n",
    "            break\n",
    "    else:\n",
    "            print(No,'is a prime number.')\n",
    "else:\n",
    "    if(No == 0 or No ==1):\n",
    "        print(No,'is neither prime nor composite.')\n",
    "    else:\n",
    "        print('Enter a valid positive integer')\n",
    "            \n"
   ]
  },
  {
   "cell_type": "code",
   "execution_count": 2,
   "metadata": {},
   "outputs": [
    {
     "name": "stdout",
     "output_type": "stream",
     "text": [
      "Enter a positive integer :5\n",
      "The square of 1 is 1\n",
      "The square of 2 is 4\n",
      "The square of 3 is 9\n",
      "The square of 4 is 16\n",
      "The square of 5 is 25\n"
     ]
    }
   ],
   "source": [
    "'''\n",
    "Q4: Write a Python function called print_square() that accepts an integer\n",
    "as input and prints out the square of all numbers between 1 and that\n",
    "integer (both included). Then call the function from main() after\n",
    "getting the value of n from the user. Note: Your submission MUST\n",
    "consist of the functions definitions for both main() as well as\n",
    "print_square().\n",
    "\n",
    "'''\n",
    "\n",
    "def print_square(No):\n",
    "    if No > 0:\n",
    "        for i in range(1,No+1):\n",
    "            sqNo = i ** 2\n",
    "            print('The square of',i,'is',sqNo)\n",
    "    else:\n",
    "        print('You have entered a invalid number. Exiting the program')\n",
    "    \n",
    "def main():\n",
    "    No = int(input('Enter a positive integer :'))\n",
    "    print_square(No)\n",
    "    \n",
    "main()"
   ]
  },
  {
   "cell_type": "code",
   "execution_count": null,
   "metadata": {},
   "outputs": [],
   "source": []
  }
 ],
 "metadata": {
  "kernelspec": {
   "display_name": "Python 3",
   "language": "python",
   "name": "python3"
  },
  "language_info": {
   "codemirror_mode": {
    "name": "ipython",
    "version": 3
   },
   "file_extension": ".py",
   "mimetype": "text/x-python",
   "name": "python",
   "nbconvert_exporter": "python",
   "pygments_lexer": "ipython3",
   "version": "3.7.3"
  }
 },
 "nbformat": 4,
 "nbformat_minor": 2
}
